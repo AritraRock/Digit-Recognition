{
  "cells": [
    {
      "cell_type": "code",
      "execution_count": 1,
      "metadata": {
        "id": "wfDo2IEcfnne"
      },
      "outputs": [],
      "source": [
        "import torch\n",
        "import torchvision\n",
        "import torchvision.transforms as transforms\n",
        "import torch.nn as nn\n",
        "import torch.optim as optim\n",
        "from torch.utils.data import DataLoader\n",
        "from torch.utils.data.sampler import SubsetRandomSampler\n",
        "from torchvision.datasets import MNIST\n",
        "import numpy as np\n",
        "import matplotlib.pyplot as plt\n",
        "from sklearn.metrics import confusion_matrix, precision_score, recall_score"
      ]
    },
    {
      "cell_type": "code",
      "execution_count": 2,
      "metadata": {
        "id": "69XXP5ecf0kg"
      },
      "outputs": [
        {
          "name": "stdout",
          "output_type": "stream",
          "text": [
            "Downloading http://yann.lecun.com/exdb/mnist/train-images-idx3-ubyte.gz\n",
            "Failed to download (trying next):\n",
            "HTTP Error 403: Forbidden\n",
            "\n",
            "Downloading https://ossci-datasets.s3.amazonaws.com/mnist/train-images-idx3-ubyte.gz\n",
            "Downloading https://ossci-datasets.s3.amazonaws.com/mnist/train-images-idx3-ubyte.gz to ./data\\MNIST\\raw\\train-images-idx3-ubyte.gz\n"
          ]
        },
        {
          "name": "stderr",
          "output_type": "stream",
          "text": [
            "100%|██████████| 9912422/9912422 [00:07<00:00, 1369784.90it/s]\n"
          ]
        },
        {
          "name": "stdout",
          "output_type": "stream",
          "text": [
            "Extracting ./data\\MNIST\\raw\\train-images-idx3-ubyte.gz to ./data\\MNIST\\raw\n",
            "\n",
            "Downloading http://yann.lecun.com/exdb/mnist/train-labels-idx1-ubyte.gz\n",
            "Failed to download (trying next):\n",
            "HTTP Error 403: Forbidden\n",
            "\n",
            "Downloading https://ossci-datasets.s3.amazonaws.com/mnist/train-labels-idx1-ubyte.gz\n",
            "Downloading https://ossci-datasets.s3.amazonaws.com/mnist/train-labels-idx1-ubyte.gz to ./data\\MNIST\\raw\\train-labels-idx1-ubyte.gz\n"
          ]
        },
        {
          "name": "stderr",
          "output_type": "stream",
          "text": [
            "100%|██████████| 28881/28881 [00:00<00:00, 99343.34it/s]\n"
          ]
        },
        {
          "name": "stdout",
          "output_type": "stream",
          "text": [
            "Extracting ./data\\MNIST\\raw\\train-labels-idx1-ubyte.gz to ./data\\MNIST\\raw\n",
            "\n",
            "Downloading http://yann.lecun.com/exdb/mnist/t10k-images-idx3-ubyte.gz\n",
            "Failed to download (trying next):\n",
            "HTTP Error 403: Forbidden\n",
            "\n",
            "Downloading https://ossci-datasets.s3.amazonaws.com/mnist/t10k-images-idx3-ubyte.gz\n",
            "Downloading https://ossci-datasets.s3.amazonaws.com/mnist/t10k-images-idx3-ubyte.gz to ./data\\MNIST\\raw\\t10k-images-idx3-ubyte.gz\n"
          ]
        },
        {
          "name": "stderr",
          "output_type": "stream",
          "text": [
            "100%|██████████| 1648877/1648877 [00:01<00:00, 917687.16it/s] \n"
          ]
        },
        {
          "name": "stdout",
          "output_type": "stream",
          "text": [
            "Extracting ./data\\MNIST\\raw\\t10k-images-idx3-ubyte.gz to ./data\\MNIST\\raw\n",
            "\n",
            "Downloading http://yann.lecun.com/exdb/mnist/t10k-labels-idx1-ubyte.gz\n",
            "Failed to download (trying next):\n",
            "HTTP Error 403: Forbidden\n",
            "\n",
            "Downloading https://ossci-datasets.s3.amazonaws.com/mnist/t10k-labels-idx1-ubyte.gz\n",
            "Downloading https://ossci-datasets.s3.amazonaws.com/mnist/t10k-labels-idx1-ubyte.gz to ./data\\MNIST\\raw\\t10k-labels-idx1-ubyte.gz\n"
          ]
        },
        {
          "name": "stderr",
          "output_type": "stream",
          "text": [
            "100%|██████████| 4542/4542 [00:00<00:00, 4733050.63it/s]"
          ]
        },
        {
          "name": "stdout",
          "output_type": "stream",
          "text": [
            "Extracting ./data\\MNIST\\raw\\t10k-labels-idx1-ubyte.gz to ./data\\MNIST\\raw\n",
            "\n"
          ]
        },
        {
          "name": "stderr",
          "output_type": "stream",
          "text": [
            "\n"
          ]
        }
      ],
      "source": [
        "# Define transformations\n",
        "transform = transforms.Compose([\n",
        "    transforms.RandomRotation(10),\n",
        "    transforms.RandomHorizontalFlip(),\n",
        "    transforms.RandomCrop(28, padding=4),\n",
        "    transforms.ToTensor(),\n",
        "    transforms.Normalize((0.1307,), (0.3081,))\n",
        "])\n",
        "\n",
        "# Load MNIST dataset with augmentation for training set\n",
        "train_dataset = MNIST(root='./data', train=True, transform=transform, download=True)\n",
        "test_dataset = MNIST(root='./data', train=False, transform=transforms.ToTensor(), download=True)\n"
      ]
    },
    {
      "cell_type": "code",
      "execution_count": 3,
      "metadata": {
        "id": "mjVlDWfhf2K7"
      },
      "outputs": [],
      "source": [
        "# Define hyperparameters to tune\n",
        "hidden_layer_sizes = [128, 256, 512]\n",
        "learning_rates = [0.001, 0.01, 0.1]\n",
        "\n",
        "# Define validation set split\n",
        "validation_split = 0.2\n",
        "dataset_size = len(train_dataset)\n",
        "indices = list(range(dataset_size))\n",
        "split = int(np.floor(validation_split * dataset_size))\n",
        "np.random.shuffle(indices)\n",
        "train_indices, val_indices = indices[split:], indices[:split]\n",
        "\n",
        "# Define samplers for train and validation sets\n",
        "train_sampler = SubsetRandomSampler(train_indices)\n",
        "val_sampler = SubsetRandomSampler(val_indices)\n",
        "\n",
        "# Define data loaders\n",
        "train_loader = DataLoader(train_dataset, batch_size=32, sampler=train_sampler)\n",
        "val_loader = DataLoader(train_dataset, batch_size=32, sampler=val_sampler)\n",
        "test_loader = DataLoader(test_dataset, batch_size=32)\n"
      ]
    },
    {
      "cell_type": "code",
      "execution_count": 4,
      "metadata": {
        "colab": {
          "base_uri": "https://localhost:8080/",
          "height": 680
        },
        "id": "U4rTOEvzf3yY",
        "outputId": "e4a1fdba-6967-4ae3-80e9-3c5999ac0000"
      },
      "outputs": [
        {
          "name": "stdout",
          "output_type": "stream",
          "text": [
            "Epoch [1/10], Train Loss: 0.7726, Val Loss: 0.5210\n",
            "Epoch [2/10], Train Loss: 0.4654, Val Loss: 0.4271\n",
            "Epoch [3/10], Train Loss: 0.4139, Val Loss: 0.3889\n",
            "Epoch [4/10], Train Loss: 0.3820, Val Loss: 0.4052\n",
            "Epoch [5/10], Train Loss: 0.3649, Val Loss: 0.3509\n",
            "Epoch [6/10], Train Loss: 0.3456, Val Loss: 0.3363\n",
            "Epoch [7/10], Train Loss: 0.3408, Val Loss: 0.3513\n",
            "Epoch [8/10], Train Loss: 0.3286, Val Loss: 0.3292\n",
            "Epoch [9/10], Train Loss: 0.3158, Val Loss: 0.3292\n",
            "Epoch [10/10], Train Loss: 0.3145, Val Loss: 0.3034\n",
            "Validation Accuracy: 90.53%, Validation Loss: 0.3053\n",
            "Test Accuracy: 57.91%, Test Loss: 1.1173\n"
          ]
        },
        {
          "data": {
            "image/png": "[encoded data removed]",
            "text/plain": [
              "<Figure size 640x480 with 1 Axes>"
            ]
          },
          "metadata": {},
          "output_type": "display_data"
        }
      ],
      "source": [
        "class NeuralNet(nn.Module):\n",
        "    def __init__(self, input_size, hidden_size, num_classes):\n",
        "        super(NeuralNet, self).__init__()\n",
        "        self.fc1 = nn.Linear(input_size, hidden_size)\n",
        "        self.relu = nn.ReLU()\n",
        "        self.fc2 = nn.Linear(hidden_size, num_classes)\n",
        "\n",
        "    def forward(self, x):\n",
        "        x = x.view(x.size(0), -1)\n",
        "        x = self.fc1(x)\n",
        "        x = self.relu(x)\n",
        "        x = self.fc2(x)\n",
        "        return x\n",
        "\n",
        "# Function for model training\n",
        "def train(model, criterion, optimizer, train_loader, val_loader, num_epochs=10):\n",
        "    train_losses = []\n",
        "    val_losses = []\n",
        "    for epoch in range(num_epochs):\n",
        "        model.train()\n",
        "        running_loss = 0.0\n",
        "        for images, labels in train_loader:\n",
        "            optimizer.zero_grad()\n",
        "            outputs = model(images)\n",
        "            loss = criterion(outputs, labels)\n",
        "            loss.backward()\n",
        "            optimizer.step()\n",
        "            running_loss += loss.item()\n",
        "        train_loss = running_loss / len(train_loader)\n",
        "        train_losses.append(train_loss)\n",
        "\n",
        "        model.eval()\n",
        "        val_loss = 0.0\n",
        "        with torch.no_grad():\n",
        "            for images, labels in val_loader:\n",
        "                outputs = model(images)\n",
        "                loss = criterion(outputs, labels)\n",
        "                val_loss += loss.item()\n",
        "        val_loss /= len(val_loader)\n",
        "        val_losses.append(val_loss)\n",
        "\n",
        "        print(f'Epoch [{epoch + 1}/{num_epochs}], '\n",
        "              f'Train Loss: {train_loss:.4f}, '\n",
        "              f'Val Loss: {val_loss:.4f}')\n",
        "\n",
        "    return train_losses, val_losses\n",
        "\n",
        "# Initialize model, criterion, and optimizer\n",
        "ffnn_model = NeuralNet(28*28, 256, 10)\n",
        "criterion = nn.CrossEntropyLoss()\n",
        "optimizer_ffnn = optim.Adam(ffnn_model.parameters(), lr=0.001)\n",
        "\n",
        "# Train the model\n",
        "train_losses_ffnn, val_losses_ffnn = train(ffnn_model, criterion, optimizer_ffnn, train_loader, val_loader)\n",
        "\n",
        "# Evaluate the model on test set\n",
        "def evaluate_model(model, test_loader, criterion):\n",
        "    model.eval()\n",
        "    test_loss = 0.0\n",
        "    correct = 0\n",
        "    total = 0\n",
        "    with torch.no_grad():\n",
        "        for images, labels in test_loader:\n",
        "            outputs = model(images)\n",
        "            loss = criterion(outputs, labels)\n",
        "            test_loss += loss.item()\n",
        "            _, predicted = torch.max(outputs, 1)\n",
        "            total += labels.size(0)\n",
        "            correct += (predicted == labels).sum().item()\n",
        "    accuracy = 100 * correct / total\n",
        "    avg_loss = test_loss / len(test_loader)\n",
        "    # print(f'Test Accuracy: {accuracy:.2f}%, Test Loss: {avg_loss:.4f}')\n",
        "    return accuracy, avg_loss\n",
        "\n",
        "val_accuracy_ffnn, val_loss_ffnn = evaluate_model(ffnn_model, val_loader, criterion)\n",
        "print(f'Validation Accuracy: {val_accuracy_ffnn:.2f}%, Validation Loss: {val_loss_ffnn:.4f}')\n",
        "test_accuracy_ffnn, test_loss_ffnn = evaluate_model(ffnn_model, test_loader, criterion)\n",
        "print(f'Test Accuracy: {test_accuracy_ffnn:.2f}%, Test Loss: {test_loss_ffnn:.4f}')\n",
        "# Visualize training and validation loss\n",
        "plt.plot(train_losses_ffnn, label='Training Loss')\n",
        "plt.plot(val_losses_ffnn, label='Validation Loss')\n",
        "plt.xlabel('Epochs')\n",
        "plt.ylabel('Loss')\n",
        "plt.title('Training and Validation Loss')\n",
        "plt.legend()\n",
        "plt.show()\n"
      ]
    },
    {
      "cell_type": "code",
      "execution_count": 6,
      "metadata": {
        "colab": {
          "base_uri": "https://localhost:8080/",
          "height": 383
        },
        "id": "pZET3R6ef5lw",
        "outputId": "f33c4397-63d8-4039-de07-6090c13bb44f"
      },
      "outputs": [
        {
          "name": "stdout",
          "output_type": "stream",
          "text": [
            "Collecting torchprofile\n",
            "  Downloading torchprofile-0.0.4-py3-none-any.whl.metadata (303 bytes)\n",
            "Requirement already satisfied: numpy>=1.14 in c:\\users\\aritr\\appdata\\roaming\\python\\python311\\site-packages (from torchprofile) (1.24.2)\n",
            "Requirement already satisfied: torch>=1.4 in c:\\users\\aritr\\appdata\\local\\programs\\python\\python311\\lib\\site-packages (from torchprofile) (2.2.2)\n",
            "Requirement already satisfied: torchvision>=0.4 in c:\\users\\aritr\\appdata\\local\\programs\\python\\python311\\lib\\site-packages (from torchprofile) (0.17.2)\n",
            "Requirement already satisfied: filelock in c:\\users\\aritr\\appdata\\local\\programs\\python\\python311\\lib\\site-packages (from torch>=1.4->torchprofile) (3.13.3)\n",
            "Requirement already satisfied: typing-extensions>=4.8.0 in c:\\users\\aritr\\appdata\\local\\programs\\python\\python311\\lib\\site-packages (from torch>=1.4->torchprofile) (4.9.0)\n",
            "Requirement already satisfied: sympy in c:\\users\\aritr\\appdata\\local\\programs\\python\\python311\\lib\\site-packages (from torch>=1.4->torchprofile) (1.12)\n",
            "Requirement already satisfied: networkx in c:\\users\\aritr\\appdata\\local\\programs\\python\\python311\\lib\\site-packages (from torch>=1.4->torchprofile) (3.2.1)\n",
            "Requirement already satisfied: jinja2 in c:\\users\\aritr\\appdata\\roaming\\python\\python311\\site-packages (from torch>=1.4->torchprofile) (3.1.2)\n",
            "Requirement already satisfied: fsspec in c:\\users\\aritr\\appdata\\local\\programs\\python\\python311\\lib\\site-packages (from torch>=1.4->torchprofile) (2024.3.1)\n",
            "Requirement already satisfied: pillow!=8.3.*,>=5.3.0 in c:\\users\\aritr\\appdata\\local\\programs\\python\\python311\\lib\\site-packages (from torchvision>=0.4->torchprofile) (10.2.0)\n",
            "Requirement already satisfied: MarkupSafe>=2.0 in c:\\users\\aritr\\appdata\\roaming\\python\\python311\\site-packages (from jinja2->torch>=1.4->torchprofile) (2.1.3)\n",
            "Requirement already satisfied: mpmath>=0.19 in c:\\users\\aritr\\appdata\\local\\programs\\python\\python311\\lib\\site-packages (from sympy->torch>=1.4->torchprofile) (1.3.0)\n",
            "Downloading torchprofile-0.0.4-py3-none-any.whl (7.7 kB)\n",
            "Installing collected packages: torchprofile\n",
            "Successfully installed torchprofile-0.0.4\n"
          ]
        },
        {
          "ename": "ModuleNotFoundError",
          "evalue": "No module named 'flopth'",
          "output_type": "error",
          "traceback": [
            "\u001b[1;31m---------------------------------------------------------------------------\u001b[0m",
            "\u001b[1;31mModuleNotFoundError\u001b[0m                       Traceback (most recent call last)",
            "Cell \u001b[1;32mIn[6], line 5\u001b[0m\n\u001b[0;32m      3\u001b[0m \u001b[38;5;28;01mfrom\u001b[39;00m \u001b[38;5;21;01mtorchprofile\u001b[39;00m \u001b[38;5;28;01mimport\u001b[39;00m profile_macs\n\u001b[0;32m      4\u001b[0m \u001b[38;5;28;01mfrom\u001b[39;00m \u001b[38;5;21;01msklearn\u001b[39;00m\u001b[38;5;21;01m.\u001b[39;00m\u001b[38;5;21;01mmetrics\u001b[39;00m \u001b[38;5;28;01mimport\u001b[39;00m confusion_matrix, precision_score, recall_score\n\u001b[1;32m----> 5\u001b[0m \u001b[38;5;28;01mfrom\u001b[39;00m \u001b[38;5;21;01mflopth\u001b[39;00m \u001b[38;5;28;01mimport\u001b[39;00m flopth\n\u001b[0;32m      6\u001b[0m \u001b[38;5;66;03m# Profile the model\u001b[39;00m\n\u001b[0;32m      7\u001b[0m flops_ffnn, num_parameters_ffnn \u001b[38;5;241m=\u001b[39m flopth(ffnn_model, in_size\u001b[38;5;241m=\u001b[39m(\u001b[38;5;241m28\u001b[39m\u001b[38;5;241m*\u001b[39m\u001b[38;5;241m28\u001b[39m,),show_detail\u001b[38;5;241m=\u001b[39m\u001b[38;5;28;01mTrue\u001b[39;00m)\n",
            "\u001b[1;31mModuleNotFoundError\u001b[0m: No module named 'flopth'"
          ]
        }
      ],
      "source": [
        "# Number of parameters and FLOPs\n",
        "!pip install torchprofile\n",
        "from torchprofile import profile_macs\n",
        "from sklearn.metrics import confusion_matrix, precision_score, recall_score\n",
        "from flopth import flopth\n",
        "# Profile the model\n",
        "flops_ffnn, num_parameters_ffnn = flopth(ffnn_model, in_size=(28*28,),show_detail=True)\n",
        "print(flops_ffnn,num_parameters_ffnn)\n",
        "\n",
        "# Generate confusion matrix, precision, and recall\n",
        "def generate_confusion_matrix(model, test_loader):\n",
        "    model.eval()\n",
        "    all_predictions = []\n",
        "    all_targets = []\n",
        "    with torch.no_grad():\n",
        "        for images, labels in test_loader:\n",
        "            outputs = model(images)\n",
        "            _, predicted = torch.max(outputs, 1)\n",
        "            all_predictions.extend(predicted.tolist())\n",
        "            all_targets.extend(labels.tolist())\n",
        "    conf_mat_result = confusion_matrix(all_targets, all_predictions)\n",
        "    precision = precision_score(all_targets, all_predictions, average='macro')\n",
        "    recall = recall_score(all_targets, all_predictions, average='macro')\n",
        "    return conf_mat_result, precision, recall\n",
        "\n",
        "# Call the function to generate confusion matrix, precision, and recall\n",
        "conf_mat_result, precision, recall = generate_confusion_matrix(ffnn_model, test_loader)\n",
        "print(f'Confusion Matrix:\\n{conf_mat_result}')\n",
        "print(f'Precision: {precision:.4f}')\n",
        "print(f'Recall: {recall:.4f}')\n"
      ]
    },
    {
      "cell_type": "markdown",
      "metadata": {
        "id": "lHhxok_ff7O_"
      },
      "source": [
        "#CNN"
      ]
    },
    {
      "cell_type": "code",
      "execution_count": 8,
      "metadata": {
        "id": "pXk-mGPFf8aF"
      },
      "outputs": [],
      "source": [
        "import torch.nn.functional as F\n",
        "\n",
        "class CNN(nn.Module):\n",
        "    def __init__(self):\n",
        "        super(CNN, self).__init__()\n",
        "        self.conv1 = nn.Conv2d(1, 16, kernel_size=3, stride=1, padding=1)\n",
        "        self.pool = nn.MaxPool2d(kernel_size=2, stride=2, padding=0)\n",
        "        self.conv2 = nn.Conv2d(16, 32, kernel_size=3, stride=1, padding=1)\n",
        "        self.fc = nn.Linear(32 * 7 * 7, 10)  # MNIST images are 28x28 after pooling twice\n",
        "\n",
        "    def forward(self, x):\n",
        "        x = self.pool(F.relu(self.conv1(x)))\n",
        "        x = self.pool(F.relu(self.conv2(x)))\n",
        "        x = x.view(-1, 32 * 7 * 7)\n",
        "        x = self.fc(x)\n",
        "        return x\n",
        "\n",
        "# Initialize the model\n",
        "cnn_model = CNN()\n"
      ]
    },
    {
      "cell_type": "code",
      "execution_count": 9,
      "metadata": {
        "id": "L13ExH6Jf917"
      },
      "outputs": [],
      "source": [
        "# Define hyperparameters grid\n",
        "param_grid = {'conv1_filters': [16, 32, 64],\n",
        "              'conv2_filters': [32, 64, 128],\n",
        "              'learning_rate': [0.001, 0.01, 0.1]}\n",
        "\n",
        "# Perform hyperparameter tuning using grid search or other techniques\n",
        "# Track the model's performance on the validation set during training\n",
        "# Select the hyperparameters that yield the best results\n",
        "# Example:\n",
        "best_params = {'conv1_filters': 32, 'conv2_filters': 64, 'learning_rate': 0.001}\n"
      ]
    },
    {
      "cell_type": "code",
      "execution_count": 10,
      "metadata": {
        "id": "MrpD4pBNf_TW"
      },
      "outputs": [
        {
          "name": "stdout",
          "output_type": "stream",
          "text": [
            "Epoch [1/10], Train Loss: 0.6707, Val Loss: 0.4316\n",
            "Epoch [2/10], Train Loss: 0.3457, Val Loss: 0.3013\n",
            "Epoch [3/10], Train Loss: 0.2877, Val Loss: 0.2969\n",
            "Epoch [4/10], Train Loss: 0.2558, Val Loss: 0.2496\n",
            "Epoch [5/10], Train Loss: 0.2378, Val Loss: 0.2437\n",
            "Epoch [6/10], Train Loss: 0.2192, Val Loss: 0.2271\n",
            "Epoch [7/10], Train Loss: 0.2077, Val Loss: 0.2050\n",
            "Epoch [8/10], Train Loss: 0.2000, Val Loss: 0.2070\n",
            "Epoch [9/10], Train Loss: 0.1935, Val Loss: 0.1888\n",
            "Epoch [10/10], Train Loss: 0.1857, Val Loss: 0.1859\n",
            "Validation Accuracy: 93.98%, Validation Loss: 0.1944\n",
            "Test Accuracy: 84.71%, Test Loss: 0.6615\n"
          ]
        },
        {
          "data": {
            "image/png": "[encoded data removed]",
            "text/plain": [
              "<Figure size 640x480 with 1 Axes>"
            ]
          },
          "metadata": {},
          "output_type": "display_data"
        }
      ],
      "source": [
        "# Define optimizer and loss function\n",
        "optimizer = optim.Adam(cnn_model.parameters(), lr=best_params['learning_rate'])\n",
        "criterion = nn.CrossEntropyLoss()\n",
        "\n",
        "# Train the model\n",
        "train_losses_cnn, val_losses_cnn = train(cnn_model, criterion, optimizer, train_loader, val_loader)\n",
        "\n",
        "# Evaluate the model on validation and test sets\n",
        "val_accuracy_cnn, val_loss_cnn = evaluate_model(cnn_model, val_loader, criterion)\n",
        "print(f'Validation Accuracy: {val_accuracy_cnn:.2f}%, Validation Loss: {val_loss_cnn:.4f}')\n",
        "test_accuracy_cnn, test_loss_cnn = evaluate_model(cnn_model, test_loader, criterion)\n",
        "print(f'Test Accuracy: {test_accuracy_cnn:.2f}%, Test Loss: {test_loss_cnn:.4f}')\n",
        "\n",
        "# Visualize training and validation loss\n",
        "plt.plot(train_losses_cnn, label='Training Loss')\n",
        "plt.plot(val_losses_cnn, label='Validation Loss')\n",
        "plt.xlabel('Epochs')\n",
        "plt.ylabel('Loss')\n",
        "plt.title('Training and Validation Loss')\n",
        "plt.legend()\n",
        "plt.show()\n"
      ]
    },
    {
      "cell_type": "code",
      "execution_count": null,
      "metadata": {
        "id": "U3pUpLCWgAxe"
      },
      "outputs": [],
      "source": [
        "# Compare the accuracy, precision, and recall scores of CNN and feedforward neural network models\n",
        "print(\"\\nComparison of Performance Metrics:\")\n",
        "print(\"CNN Model:\")\n",
        "print(f\"Validation Accuracy: {val_accuracy_cnn:.2f}%, Validation Loss: {val_loss_cnn:.4f}\")\n",
        "print(f\"Test Accuracy: {test_accuracy_cnn:.2f}%, Test Loss: {test_loss_cnn:.4f}\")\n",
        "print(\"\\nFeedforward Neural Network Model:\")\n",
        "print(f\"Validation Accuracy: {val_accuracy_ffnn:.2f}%, Validation Loss: {val_loss_ffnn:.4f}\")\n",
        "print(f\"Test Accuracy: {test_accuracy_ffnn:.2f}%, Test Loss: {test_loss_ffnn:.4f}\")\n",
        "\n",
        "# Calculate FLOPs and Number of parameters for both models\n",
        "# from flopth import flopth\n",
        "# flops_cnn, num_parameters_cnn = flopth(cnn_model,show_detail=True)\n",
        "# print(\"\\nComparison of Number of Trainable Parameters:\")\n",
        "# print(f\"CNN Model: {num_parameters_cnn} parameters\")\n",
        "# print(f\"Feedforward Neural Network Model: {num_parameters_ffnn} parameters\")\n",
        "# print(\"\\nComparison of FLOPS:\")\n",
        "# print(flops_ffnn)\n",
        "# print(flops_cnn)\n"
      ]
    }
  ],
  "metadata": {
    "colab": {
      "provenance": []
    },
    "kernelspec": {
      "display_name": "Python 3",
      "name": "python3"
    },
    "language_info": {
      "codemirror_mode": {
        "name": "ipython",
        "version": 3
      },
      "file_extension": ".py",
      "mimetype": "text/x-python",
      "name": "python",
      "nbconvert_exporter": "python",
      "pygments_lexer": "ipython3",
      "version": "3.11.4"
    }
  },
  "nbformat": 4,
  "nbformat_minor": 0
}
